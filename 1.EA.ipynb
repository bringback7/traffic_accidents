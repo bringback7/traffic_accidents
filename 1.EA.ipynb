{
 "cells": [
  {
   "cell_type": "markdown",
   "id": "5615af02",
   "metadata": {},
   "source": [
    "# Exploratory analysis"
   ]
  },
  {
   "cell_type": "code",
   "execution_count": 1,
   "id": "675cb960",
   "metadata": {},
   "outputs": [],
   "source": [
    "import pandas as pd\n",
    "import numpy as np\n",
    "import matplotlib.pyplot as plt\n",
    "import seaborn as sns"
   ]
  },
  {
   "cell_type": "code",
   "execution_count": 3,
   "id": "2503d134",
   "metadata": {},
   "outputs": [
    {
     "data": {
      "text/html": [
       "<div>\n",
       "<style scoped>\n",
       "    .dataframe tbody tr th:only-of-type {\n",
       "        vertical-align: middle;\n",
       "    }\n",
       "\n",
       "    .dataframe tbody tr th {\n",
       "        vertical-align: top;\n",
       "    }\n",
       "\n",
       "    .dataframe thead th {\n",
       "        text-align: right;\n",
       "    }\n",
       "</style>\n",
       "<table border=\"1\" class=\"dataframe\">\n",
       "  <thead>\n",
       "    <tr style=\"text-align: right;\">\n",
       "      <th></th>\n",
       "      <th>Unnamed: 0</th>\n",
       "      <th>p1</th>\n",
       "      <th>p36</th>\n",
       "      <th>p37</th>\n",
       "      <th>p2a</th>\n",
       "      <th>weekday(p2a)</th>\n",
       "      <th>p2b</th>\n",
       "      <th>p6</th>\n",
       "      <th>p7</th>\n",
       "      <th>p8</th>\n",
       "      <th>...</th>\n",
       "      <th>k</th>\n",
       "      <th>l</th>\n",
       "      <th>n</th>\n",
       "      <th>o</th>\n",
       "      <th>p</th>\n",
       "      <th>q</th>\n",
       "      <th>r</th>\n",
       "      <th>s</th>\n",
       "      <th>t</th>\n",
       "      <th>p5a</th>\n",
       "    </tr>\n",
       "  </thead>\n",
       "  <tbody>\n",
       "    <tr>\n",
       "      <th>0</th>\n",
       "      <td>0</td>\n",
       "      <td>190206200001</td>\n",
       "      <td>1</td>\n",
       "      <td>21.0</td>\n",
       "      <td>2020-01-01</td>\n",
       "      <td>3</td>\n",
       "      <td>1030</td>\n",
       "      <td>9</td>\n",
       "      <td>0</td>\n",
       "      <td>0</td>\n",
       "      <td>...</td>\n",
       "      <td>silnice1.třídy</td>\n",
       "      <td>21</td>\n",
       "      <td>2624837.0</td>\n",
       "      <td>NaN</td>\n",
       "      <td>Opačnýkesměruúseku</td>\n",
       "      <td>Pomalý</td>\n",
       "      <td>554502.0</td>\n",
       "      <td>NaN</td>\n",
       "      <td>GN_V0.1UIR-ADR_410</td>\n",
       "      <td>2</td>\n",
       "    </tr>\n",
       "    <tr>\n",
       "      <th>1</th>\n",
       "      <td>1</td>\n",
       "      <td>190206200002</td>\n",
       "      <td>1</td>\n",
       "      <td>21.0</td>\n",
       "      <td>2020-01-01</td>\n",
       "      <td>3</td>\n",
       "      <td>1520</td>\n",
       "      <td>3</td>\n",
       "      <td>0</td>\n",
       "      <td>4</td>\n",
       "      <td>...</td>\n",
       "      <td>silnice1.třídy</td>\n",
       "      <td>21</td>\n",
       "      <td>3304319.0</td>\n",
       "      <td>NaN</td>\n",
       "      <td>Opačnýkesměruúseku</td>\n",
       "      <td>Pomalý</td>\n",
       "      <td>554502.0</td>\n",
       "      <td>NaN</td>\n",
       "      <td>GN_V0.1UIR-ADR_410</td>\n",
       "      <td>2</td>\n",
       "    </tr>\n",
       "    <tr>\n",
       "      <th>2</th>\n",
       "      <td>2</td>\n",
       "      <td>190206200003</td>\n",
       "      <td>1</td>\n",
       "      <td>21.0</td>\n",
       "      <td>2020-01-01</td>\n",
       "      <td>3</td>\n",
       "      <td>1510</td>\n",
       "      <td>1</td>\n",
       "      <td>1</td>\n",
       "      <td>0</td>\n",
       "      <td>...</td>\n",
       "      <td>silnice1.třídy</td>\n",
       "      <td>21</td>\n",
       "      <td>250681.0</td>\n",
       "      <td>NaN</td>\n",
       "      <td>Opačnýkesměruúseku</td>\n",
       "      <td>Pomalý</td>\n",
       "      <td>539112.0</td>\n",
       "      <td>NaN</td>\n",
       "      <td>GN_V0.1UIR-ADR_410</td>\n",
       "      <td>2</td>\n",
       "    </tr>\n",
       "    <tr>\n",
       "      <th>3</th>\n",
       "      <td>3</td>\n",
       "      <td>190206200004</td>\n",
       "      <td>3</td>\n",
       "      <td>2143.0</td>\n",
       "      <td>2020-01-02</td>\n",
       "      <td>4</td>\n",
       "      <td>2000</td>\n",
       "      <td>3</td>\n",
       "      <td>0</td>\n",
       "      <td>3</td>\n",
       "      <td>...</td>\n",
       "      <td>silnice3.třídy</td>\n",
       "      <td>2143</td>\n",
       "      <td>730162.0</td>\n",
       "      <td>NaN</td>\n",
       "      <td>Souhlasnýsesměremúseku</td>\n",
       "      <td>Pomalý</td>\n",
       "      <td>554481.0</td>\n",
       "      <td>139173.0</td>\n",
       "      <td>GN_V0.1UIR-ADR_410</td>\n",
       "      <td>1</td>\n",
       "    </tr>\n",
       "    <tr>\n",
       "      <th>4</th>\n",
       "      <td>4</td>\n",
       "      <td>190206200005</td>\n",
       "      <td>6</td>\n",
       "      <td>NaN</td>\n",
       "      <td>2020-01-03</td>\n",
       "      <td>5</td>\n",
       "      <td>445</td>\n",
       "      <td>2</td>\n",
       "      <td>0</td>\n",
       "      <td>0</td>\n",
       "      <td>...</td>\n",
       "      <td>místníkomunikace</td>\n",
       "      <td>NaN</td>\n",
       "      <td>2626940.0</td>\n",
       "      <td>NaN</td>\n",
       "      <td>Souhlasnýsesměremúseku</td>\n",
       "      <td>Pomalý</td>\n",
       "      <td>554499.0</td>\n",
       "      <td>136204.0</td>\n",
       "      <td>GN_V0.1UIR-ADR_410</td>\n",
       "      <td>1</td>\n",
       "    </tr>\n",
       "  </tbody>\n",
       "</table>\n",
       "<p>5 rows × 65 columns</p>\n",
       "</div>"
      ],
      "text/plain": [
       "   Unnamed: 0            p1  p36     p37         p2a  weekday(p2a)   p2b  p6  \\\n",
       "0           0  190206200001    1    21.0  2020-01-01             3  1030   9   \n",
       "1           1  190206200002    1    21.0  2020-01-01             3  1520   3   \n",
       "2           2  190206200003    1    21.0  2020-01-01             3  1510   1   \n",
       "3           3  190206200004    3  2143.0  2020-01-02             4  2000   3   \n",
       "4           4  190206200005    6     NaN  2020-01-03             5   445   2   \n",
       "\n",
       "   p7  p8  ...                 k     l          n    o  \\\n",
       "0   0   0  ...    silnice1.třídy    21  2624837.0  NaN   \n",
       "1   0   4  ...    silnice1.třídy    21  3304319.0  NaN   \n",
       "2   1   0  ...    silnice1.třídy    21   250681.0  NaN   \n",
       "3   0   3  ...    silnice3.třídy  2143   730162.0  NaN   \n",
       "4   0   0  ...  místníkomunikace   NaN  2626940.0  NaN   \n",
       "\n",
       "                        p       q         r         s                   t  p5a  \n",
       "0      Opačnýkesměruúseku  Pomalý  554502.0       NaN  GN_V0.1UIR-ADR_410    2  \n",
       "1      Opačnýkesměruúseku  Pomalý  554502.0       NaN  GN_V0.1UIR-ADR_410    2  \n",
       "2      Opačnýkesměruúseku  Pomalý  539112.0       NaN  GN_V0.1UIR-ADR_410    2  \n",
       "3  Souhlasnýsesměremúseku  Pomalý  554481.0  139173.0  GN_V0.1UIR-ADR_410    1  \n",
       "4  Souhlasnýsesměremúseku  Pomalý  554499.0  136204.0  GN_V0.1UIR-ADR_410    1  \n",
       "\n",
       "[5 rows x 65 columns]"
      ]
     },
     "execution_count": 3,
     "metadata": {},
     "output_type": "execute_result"
    }
   ],
   "source": [
    "data = pd.read_csv(\"all_data.csv\")\n",
    "data.head()"
   ]
  },
  {
   "cell_type": "code",
   "execution_count": 7,
   "id": "e1d69513",
   "metadata": {},
   "outputs": [
    {
     "data": {
      "text/plain": [
       "2    565455\n",
       "1    141572\n",
       "Name: p9, dtype: int64"
      ]
     },
     "metadata": {},
     "output_type": "display_data"
    },
    {
     "data": {
      "image/png": "[encoded data removed]",
      "text/plain": [
       "<Figure size 432x288 with 1 Axes>"
      ]
     },
     "metadata": {
      "needs_background": "light"
     },
     "output_type": "display_data"
    }
   ],
   "source": [
    "sns.countplot(data=data, x=\"p9\")\n",
    "display(data[\"p9\"].value_counts())"
   ]
  },
  {
   "cell_type": "code",
   "execution_count": 19,
   "id": "098786fb",
   "metadata": {},
   "outputs": [
    {
     "data": {
      "text/plain": [
       "6779"
      ]
     },
     "execution_count": 19,
     "metadata": {},
     "output_type": "execute_result"
    }
   ],
   "source": [
    "len(data['p37'].unique())"
   ]
  },
  {
   "cell_type": "code",
   "execution_count": 20,
   "id": "e210990c",
   "metadata": {},
   "outputs": [
    {
     "data": {
      "text/plain": [
       "1.0        11571\n",
       "35.0        8348\n",
       "11.0        7754\n",
       "13.0        7284\n",
       "38.0        4503\n",
       "           ...  \n",
       "43718.0        1\n",
       "15239.0        1\n",
       "1568.0         1\n",
       "19126.0        1\n",
       "3994.0         1\n",
       "Name: p37, Length: 6778, dtype: int64"
      ]
     },
     "execution_count": 20,
     "metadata": {},
     "output_type": "execute_result"
    }
   ],
   "source": [
    "data['p37'].value_counts()"
   ]
  }
 ],
 "metadata": {
  "kernelspec": {
   "display_name": "Python 3",
   "language": "python",
   "name": "python3"
  },
  "language_info": {
   "codemirror_mode": {
    "name": "ipython",
    "version": 3
   },
   "file_extension": ".py",
   "mimetype": "text/x-python",
   "name": "python",
   "nbconvert_exporter": "python",
   "pygments_lexer": "ipython3",
   "version": "3.8.8"
  }
 },
 "nbformat": 4,
 "nbformat_minor": 5
}
